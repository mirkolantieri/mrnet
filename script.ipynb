{
 "metadata": {
  "language_info": {
   "codemirror_mode": {
    "name": "ipython",
    "version": 3
   },
   "file_extension": ".py",
   "mimetype": "text/x-python",
   "name": "python",
   "nbconvert_exporter": "python",
   "pygments_lexer": "ipython3",
   "version": "3.8.8"
  },
  "orig_nbformat": 2,
  "kernelspec": {
   "name": "python388jvsc74a57bd0cb51a0daa07971ff725fa0634097739836b4becdf8968cf417e3b95dc91e2288",
   "display_name": "Python 3.8.8 64-bit ('pytorch': conda)"
  },
  "metadata": {
   "interpreter": {
    "hash": "cb51a0daa07971ff725fa0634097739836b4becdf8968cf417e3b95dc91e2288"
   }
  }
 },
 "nbformat": 4,
 "nbformat_minor": 2,
 "cells": [
  {
   "cell_type": "code",
   "execution_count": null,
   "metadata": {},
   "outputs": [],
   "source": [
    "# import delle librerie\n",
    "#import krippendorff\n",
    "import matplotlib.pyplot as plt\n",
    "import matplotlib.image as mpimg\n",
    "import numpy as np\n",
    "import pandas as pd\n",
    "from PIL import Image\n",
    "\n"
   ]
  },
  {
   "cell_type": "code",
   "execution_count": null,
   "metadata": {},
   "outputs": [],
   "source": [
    "classes_df = pd.read_csv('./minor_agreement.csv')\n",
    "\n",
    "diff_df = pd.read_csv('./casi_diff.csv')\n",
    "\n",
    "classes_df = classes_df.astype(float)\n",
    "diff_df = diff_df.astype(float)"
   ]
  },
  {
   "cell_type": "code",
   "execution_count": null,
   "metadata": {},
   "outputs": [],
   "source": [
    "classes_df = classes_df.apply (pd.to_numeric, errors='coerce')\n",
    "diff_df = diff_df.apply(pd.to_numeric, errors='coerce')"
   ]
  },
  {
   "cell_type": "code",
   "execution_count": null,
   "metadata": {},
   "outputs": [],
   "source": [
    "diff_df['mean'] = diff_df.apply(np.mean, axis=1)\n",
    "diff_df = diff_df.reset_index()"
   ]
  },
  {
   "cell_type": "code",
   "execution_count": null,
   "metadata": {},
   "outputs": [],
   "source": [
    "diff_df.sort_values('mean', inplace=True)\n",
    "\n",
    "id_dif = []\n",
    "\n",
    "id_dif.append(diff_df['index'].head(25))\n"
   ]
  },
  {
   "cell_type": "code",
   "execution_count": null,
   "metadata": {},
   "outputs": [],
   "source": [
    "diff_df.head(25)"
   ]
  },
  {
   "cell_type": "code",
   "execution_count": null,
   "metadata": {},
   "outputs": [],
   "source": [
    "test = open(\"id_dif.csv\", 'w')\n",
    "np.savetxt(test, id_dif, fmt='%s')\n",
    "test.close()"
   ]
  },
  {
   "cell_type": "code",
   "execution_count": null,
   "metadata": {},
   "outputs": [],
   "source": [
    "classes_df['mean'] = classes_df.apply(np.mean, axis=1)\n",
    "classes_df = classes_df.reset_index()"
   ]
  },
  {
   "cell_type": "code",
   "execution_count": null,
   "metadata": {},
   "outputs": [],
   "source": [
    "classes_df.sort_values('mean', inplace=True)\n",
    "classes_df.head(25)"
   ]
  },
  {
   "cell_type": "code",
   "execution_count": null,
   "metadata": {},
   "outputs": [],
   "source": [
    "id_agreement = []\n",
    "\n",
    "id_agreement.append(classes_df['index'].head(25))\n",
    "\n",
    "test = open(\"id_agreement.csv\", 'w')\n",
    "np.savetxt(test, id_agreement, fmt='%s')\n",
    "test.close()"
   ]
  }
 ]
}