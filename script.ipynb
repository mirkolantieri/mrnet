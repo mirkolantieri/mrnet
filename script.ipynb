{
 "metadata": {
  "language_info": {
   "codemirror_mode": {
    "name": "ipython",
    "version": 3
   },
   "file_extension": ".py",
   "mimetype": "text/x-python",
   "name": "python",
   "nbconvert_exporter": "python",
   "pygments_lexer": "ipython3",
   "version": "3.8.10"
  },
  "orig_nbformat": 2,
  "kernelspec": {
   "name": "python3810jvsc74a57bd0cb51a0daa07971ff725fa0634097739836b4becdf8968cf417e3b95dc91e2288",
   "display_name": "Python 3.8.10 64-bit ('pytorch': conda)"
  },
  "metadata": {
   "interpreter": {
    "hash": "cb51a0daa07971ff725fa0634097739836b4becdf8968cf417e3b95dc91e2288"
   }
  }
 },
 "nbformat": 4,
 "nbformat_minor": 2,
 "cells": [
  {
   "cell_type": "code",
   "execution_count": null,
   "metadata": {},
   "outputs": [],
   "source": [
    "from __future__ import print_function\n",
    "\n",
    "#%matplotlib inline\n",
    "import random\n",
    "\n",
    "import matplotlib.animation as animation\n",
    "import matplotlib.pyplot as plt\n",
    "import numpy as np\n",
    "import torch\n",
    "import torch.backends.cudnn as cudnn\n",
    "import torch.nn as nn\n",
    "import torch.nn.parallel\n",
    "import torch.optim as optim\n",
    "import torch.utils.data\n",
    "import torchvision.datasets as dset\n",
    "import torchvision.transforms as transforms\n",
    "import torchvision.utils as vutils\n",
    "from IPython.display import HTML\n",
    "from skimage.io import imsave\n",
    "\n",
    "# Set random seed for reproducibility\n",
    "manualSeed = 999\n",
    "#manualSeed = random.randint(1, 10000) # use if you want new results\n",
    "print(\"Random Seed: \", manualSeed)\n",
    "random.seed(manualSeed)\n",
    "torch.manual_seed(manualSeed)\n",
    "\n",
    "# Root directory for dataset\n",
    "dataroot = \"./output/\"\n",
    "# Number of workers for dataloader\n",
    "workers = 2\n",
    "# Batch size during training\n",
    "batch_size = 128\n",
    "# Spatial size of training images. All images will be resized to this\n",
    "#   size using a transformer.\n",
    "image_size = 64\n",
    "# Number of channels in the training images. For color images this is 3\n",
    "nc = 3\n",
    "# Size of z latent vector (i.e. size of generator input)\n",
    "nz = 100\n",
    "# Size of feature maps in generator\n",
    "ngf = 64\n",
    "# Size of feature maps in discriminator\n",
    "ndf = 64\n",
    "# Number of training epochs\n",
    "num_epochs = 5\n",
    "# Learning rate for optimizers\n",
    "lr = 0.0002\n",
    "# Beta1 hyperparam for Adam optimizers\n",
    "beta1 = 0.5\n",
    "# Number of GPUs available. Use 0 for CPU mode.\n",
    "ngpu = 1\n",
    "\n",
    "\n",
    "# custom weights initialization called on netG and netD\n",
    "def weights_init(m):\n",
    "    classname = m.__class__.__name__\n",
    "    if classname.find('Conv') != -1:\n",
    "        nn.init.normal_(m.weight.data, 0.0, 0.02)\n",
    "    elif classname.find('BatchNorm') != -1:\n",
    "        nn.init.normal_(m.weight.data, 1.0, 0.02)\n",
    "        nn.init.constant_(m.bias.data, 0)\n",
    "\n"
   ]
  },
  {
   "cell_type": "code",
   "execution_count": null,
   "metadata": {},
   "outputs": [],
   "source": [
    "# Generator Class\n",
    "\n",
    "class Generator(nn.Module):\n",
    "    def __init__(self, ngpu):\n",
    "        super(Generator, self).__init__()\n",
    "        self.ngpu = ngpu\n",
    "        self.main = nn.Sequential(\n",
    "            # input is Z, going into a convolution\n",
    "            nn.ConvTranspose2d( nz, ngf * 8, 4, 1, 0, bias=False),\n",
    "            nn.BatchNorm2d(ngf * 8),\n",
    "            nn.ReLU(True),\n",
    "            # state size. (ngf*8) x 4 x 4\n",
    "            nn.ConvTranspose2d(ngf * 8, ngf * 4, 4, 2, 1, bias=False),\n",
    "            nn.BatchNorm2d(ngf * 4),\n",
    "            nn.ReLU(True),\n",
    "            # state size. (ngf*4) x 8 x 8\n",
    "            nn.ConvTranspose2d( ngf * 4, ngf * 2, 4, 2, 1, bias=False),\n",
    "            nn.BatchNorm2d(ngf * 2),\n",
    "            nn.ReLU(True),\n",
    "            # state size. (ngf*2) x 16 x 16\n",
    "            nn.ConvTranspose2d( ngf * 2, ngf, 4, 2, 1, bias=False),\n",
    "            nn.BatchNorm2d(ngf),\n",
    "            nn.ReLU(True),\n",
    "            # state size. (ngf) x 32 x 32\n",
    "            nn.ConvTranspose2d( ngf, nc, 4, 2, 1, bias=False),\n",
    "            nn.Tanh()\n",
    "            # state size. (nc) x 64 x 64\n",
    "        )\n",
    "\n",
    "    def forward(self, input):\n",
    "        return self.main(input)\n",
    "\n",
    "# Discriminator class\n",
    "\n",
    "class Discriminator(nn.Module):\n",
    "    def __init__(self, ngpu):\n",
    "        super(Discriminator, self).__init__()\n",
    "        self.ngpu = ngpu\n",
    "        self.main = nn.Sequential(\n",
    "            # input is (nc) x 64 x 64\n",
    "            nn.Conv2d(nc, ndf, 4, 2, 1, bias=False),\n",
    "            nn.LeakyReLU(0.2, inplace=True),\n",
    "            # state size. (ndf) x 32 x 32\n",
    "            nn.Conv2d(ndf, ndf * 2, 4, 2, 1, bias=False),\n",
    "            nn.BatchNorm2d(ndf * 2),\n",
    "            nn.LeakyReLU(0.2, inplace=True),\n",
    "            # state size. (ndf*2) x 16 x 16\n",
    "            nn.Conv2d(ndf * 2, ndf * 4, 4, 2, 1, bias=False),\n",
    "            nn.BatchNorm2d(ndf * 4),\n",
    "            nn.LeakyReLU(0.2, inplace=True),\n",
    "            # state size. (ndf*4) x 8 x 8\n",
    "            nn.Conv2d(ndf * 4, ndf * 8, 4, 2, 1, bias=False),\n",
    "            nn.BatchNorm2d(ndf * 8),\n",
    "            nn.LeakyReLU(0.2, inplace=True),\n",
    "            # state size. (ndf*8) x 4 x 4\n",
    "            nn.Conv2d(ndf * 8, 1, 4, 1, 0, bias=False),\n",
    "            nn.Sigmoid()\n",
    "        )\n",
    "\n",
    "    def forward(self, input):\n",
    "        return self.main(input)"
   ]
  },
  {
   "cell_type": "code",
   "execution_count": null,
   "metadata": {},
   "outputs": [],
   "source": [
    "# We can use an image folder dataset the way we have it setup.\n",
    "# Create the dataset\n",
    "dataset = dset.ImageFolder(root=dataroot,\n",
    "                            transform=transforms.Compose([\n",
    "                                transforms.Resize(image_size),\n",
    "                                transforms.CenterCrop(image_size),\n",
    "                                transforms.ToTensor(),\n",
    "                                transforms.Normalize((0.5, 0.5, 0.5), (0.5, 0.5, 0.5)),\n",
    "                            ]))\n",
    "# Create the dataloader\n",
    "dataloader = torch.utils.data.DataLoader(dataset, batch_size=batch_size,\n",
    "                                            shuffle=True, num_workers=workers)\n",
    "\n",
    "# Decide which device we want to run on\n",
    "device = torch.device(\"cuda:0\" if (torch.cuda.is_available() and ngpu > 0) else \"cpu\")\n",
    "\n",
    "# Plot some training images\n",
    "real_batch = next(iter(dataloader))\n",
    "plt.figure(figsize=(8,8))\n",
    "plt.axis(\"off\")\n",
    "plt.title(\"Training Images\")\n",
    "plt.imshow(np.transpose(vutils.make_grid(real_batch[0].to(device)[:64], padding=2, normalize=True).cpu(),(1,2,0)))\n",
    "plt.show()"
   ]
  },
  {
   "cell_type": "code",
   "execution_count": null,
   "metadata": {},
   "outputs": [],
   "source": [
    " # Create the generator\n",
    " netG = Generator(ngpu).to(device)\n",
    "\n",
    " # Handle multi-gpu if desired\n",
    " if (device.type == 'cuda') and (ngpu > 1):\n",
    "     netG = nn.DataParallel(netG, list(range(ngpu)))\n",
    "\n",
    "# Apply the weights_init function to randomly initialize all weights\n",
    "#  to mean=0, stdev=0.2.\n",
    "netG.apply(weights_init)\n",
    "\n",
    "# Print the model\n",
    "print(netG)\n",
    "# Create the Discriminator\n",
    "netD = Discriminator(ngpu).to(device)\n",
    "\n",
    "# Handle multi-gpu if desired\n",
    "if (device.type == 'cuda') and (ngpu > 1):\n",
    "    netD = nn.DataParallel(netD, list(range(ngpu)))\n",
    "\n",
    "# Apply the weights_init function to randomly initialize all weights\n",
    "#  to mean=0, stdev=0.2.\n",
    "netD.apply(weights_init)\n",
    "\n",
    "# Print the model\n",
    "print(netD)\n",
    "\n",
    "# Initialize BCELoss function\n",
    "criterion = nn.BCELoss()\n",
    "\n",
    "# Create batch of latent vectors that we will use to visualize\n",
    "#  the progression of the generator\n",
    "fixed_noise = torch.randn(64, nz, 1, 1, device=device)\n",
    "\n",
    "# Establish convention for real and fake labels during training\n",
    "real_label = 1.\n",
    "fake_label = 0.\n",
    "\n",
    "# Setup Adam optimizers for both G and D\n",
    "optimizerD = optim.Adam(netD.parameters(), lr=lr, betas=(beta1, 0.999))\n",
    "optimizerG = optim.Adam(netG.parameters(), lr=lr, betas=(beta1, 0.999))\n"
   ]
  },
  {
   "cell_type": "code",
   "execution_count": null,
   "metadata": {},
   "outputs": [],
   "source": [
    "# Training Loop\n",
    "\n",
    "# Lists to keep track of progress\n",
    "img_list = []\n",
    "G_losses = []\n",
    "D_losses = []\n",
    "iters = 0\n",
    "\n",
    "print(\"Starting Training Loop...\")\n",
    "# For each epoch\n",
    "for epoch in range(num_epochs):\n",
    "# For each batch in the dataloader\n",
    "    for i, data in enumerate(dataloader, 0):\n",
    "\n",
    "            ############################\n",
    "            # (1) Update D network: maximize log(D(x)) + log(1 - D(G(z)))\n",
    "            ###########################\n",
    "            ## Train with all-real batch\n",
    "        netD.zero_grad()\n",
    "            # Format batch\n",
    "        real_cpu = data[0].to(device)\n",
    "        b_size = real_cpu.size(0)\n",
    "        label = torch.full((b_size,), real_label, dtype=torch.float, device=device)\n",
    "        # Forward pass real batch through D\n",
    "        output = netD(real_cpu).view(-1)\n",
    "        # Calculate loss on all-real batch\n",
    "        errD_real = criterion(output, label)\n",
    "        # Calculate gradients for D in backward pass\n",
    "        errD_real.backward()\n",
    "        D_x = output.mean().item()\n",
    "\n",
    "        ## Train with all-fake batch\n",
    "        # Generate batch of latent vectors\n",
    "        noise = torch.randn(b_size, nz, 1, 1, device=device)\n",
    "        # Generate fake image batch with G\n",
    "        fake = netG(noise)\n",
    "        label.fill_(fake_label)\n",
    "        # Classify all fake batch with D\n",
    "        output = netD(fake.detach()).view(-1)\n",
    "        # Calculate D's loss on the all-fake batch\n",
    "        errD_fake = criterion(output, label)\n",
    "        # Calculate the gradients for this batch, accumulated (summed) with previous gradients\n",
    "        errD_fake.backward()\n",
    "        D_G_z1 = output.mean().item()\n",
    "        # Compute error of D as sum over the fake and the real batches\n",
    "        errD = errD_real + errD_fake\n",
    "        # Update D\n",
    "        optimizerD.step()\n",
    "############################\n",
    "            # (2) Update G network: maximize log(D(G(z)))\n",
    "            ###########################\n",
    "        netG.zero_grad()\n",
    "        label.fill_(real_label)  # fake labels are real for generator cost\n",
    "        # Since we just updated D, perform another forward pass of all-fake batch through D\n",
    "        output = netD(fake).view(-1)\n",
    "        # Calculate G's loss based on this output\n",
    "        errG = criterion(output, label)\n",
    "        # Calculate gradients for G\n",
    "        errG.backward()\n",
    "        D_G_z2 = output.mean().item()\n",
    "        # Update G\n",
    "        optimizerG.step()\n",
    "# Output training stats\n",
    "        if i % 50 == 0:\n",
    "            print('[%d/%d][%d/%d]\\tLoss_D: %.4f\\tLoss_G: %.4f\\tD(x): %.4f\\tD(G(z)): %.4f / %.4f'\n",
    "                    % (epoch, num_epochs, i, len(dataloader),\n",
    "                        errD.item(), errG.item(), D_x, D_G_z1, D_G_z2))\n",
    "\n",
    "            # Save Losses for plotting later\n",
    "        G_losses.append(errG.item())\n",
    "        D_losses.append(errD.item())\n",
    "\n",
    "            # Check how the generator is doing by saving G's output on fixed_noise\n",
    "        if (iters % 500 == 0) or ((epoch == num_epochs-1) and (i == len(dataloader)-1)):\n",
    "            with torch.no_grad():\n",
    "                fake = netG(fixed_noise).detach().cpu()\n",
    "            img_list.append(vutils.make_grid(fake, padding=2, normalize=True))\n",
    "        iters += 1"
   ]
  },
  {
   "cell_type": "code",
   "execution_count": null,
   "metadata": {},
   "outputs": [],
   "source": [
    "plt.figure(figsize=(10,5))\n",
    "plt.title(\"Generator and Discriminator Loss During Training\")\n",
    "plt.plot(G_losses,label=\"G\")\n",
    "plt.plot(D_losses,label=\"D\")\n",
    "plt.xlabel(\"iterations\")\n",
    "plt.ylabel(\"Loss\")\n",
    "plt.legend()\n",
    "plt.show()"
   ]
  },
  {
   "cell_type": "code",
   "execution_count": null,
   "metadata": {},
   "outputs": [],
   "source": [
    "#%%capture\n",
    "fig = plt.figure(figsize=(8,8))\n",
    "plt.axis(\"off\")\n",
    "ims = [[plt.imshow(np.transpose(i,(1,2,0)), animated=True)] for i in img_list]\n",
    "ani = animation.ArtistAnimation(fig, ims, interval=1000, repeat_delay=1000, blit=True)\n",
    "HTML(ani.to_jshtml())"
   ]
  },
  {
   "cell_type": "code",
   "execution_count": null,
   "metadata": {},
   "outputs": [],
   "source": [
    "# Grab a batch of real images from the dataloader\n",
    "real_batch = next(iter(dataloader))\n",
    "\n",
    "# Plot the real images\n",
    "plt.figure(figsize=(15,15))\n",
    "plt.subplot(1,2,1)\n",
    "plt.axis(\"off\")\n",
    "plt.title(\"Real Images\")\n",
    "plt.imshow(np.transpose(vutils.make_grid(real_batch[0].to(device)[:64], padding=5, normalize=True).cpu(),(1,2,0)))\n",
    "\n",
    "# Plot the fake images from the last epoch\n",
    "plt.subplot(1,2,2)\n",
    "plt.axis(\"off\")\n",
    "plt.title(\"Fake Images\")\n",
    "plt.imshow(np.transpose(img_list[-1],(1,2,0)))\n",
    "plt.show()\n"
   ]
  },
  {
   "cell_type": "code",
   "execution_count": null,
   "metadata": {},
   "outputs": [],
   "source": [
    "from torchvision.utils import save_image\n",
    "\n",
    "if not os.path.exists('./gans/'):\n",
    "    os.mkdir('./gans/')\n",
    "\n",
    "for i in range(len(img_list)):\n",
    "    image0 = img_list[i]\n",
    "    save_image(image0, f'./gans/gan_{i}.jpg')"
   ]
  },
  {
   "cell_type": "code",
   "execution_count": null,
   "metadata": {},
   "outputs": [],
   "source": [
    "import argparse\n",
    "import csv\n",
    "import os\n",
    "import random\n",
    "\n",
    "import numpy as np\n",
    "import pandas as pd\n",
    "import torch\n",
    "import tqdm\n",
    "from sklearn import metrics\n",
    "from sklearn.linear_model import LogisticRegression\n",
    "\n",
    "import utils as ut\n",
    "from loader import MRDataset\n",
    "from model import AlexNet\n",
    "\n",
    "torch.multiprocessing.set_sharing_strategy('file_system')"
   ]
  },
  {
   "cell_type": "code",
   "execution_count": null,
   "metadata": {},
   "outputs": [],
   "source": [
    "def extract_predictions(task, plane, path_to_models, train=True):\n",
    "    \"\"\" \n",
    "    `extract_predictions`: the method extracts the prediction from the pretrained models\n",
    "\n",
    "    args:\n",
    "        task: the tear to be analized (acl, meniscus, abnormal)\n",
    "        plane: the plane where the tear occured (for example: axial, coronal, sagittal)\n",
    "        path_to_models: the path where are stored the trained models\n",
    "        trains=True: boolean to indicate if the loader needs to be from the training set or the validation\n",
    "\n",
    "    \"\"\"\n",
    "    assert task in ['acl', 'meniscus', 'abnormal']\n",
    "    assert plane in ['axial', 'coronal', 'sagittal']\n",
    "    \n",
    "    # Initialize the models and filter by the tear\n",
    "    models = os.listdir(path_to_models)\n",
    "    model_name = list(filter(lambda name: task in name and plane in name, models))[0]\n",
    "    model_path = f'{path_to_models}/{model_name}'\n",
    "\n",
    "    # Select the gpu or the cpu for the tensor compilation\n",
    "    if torch.cuda.is_available():\n",
    "        device = torch.device('cuda')\n",
    "    else: \n",
    "        device = torch.device('cpu')\n",
    "\n",
    "    model = AlexNet()\n",
    "\n",
    "    # Load the model\n",
    "    mrnet = torch.load(model_path)\n",
    "    model.load_state_dict(mrnet)\n",
    "    model.to(device)\n",
    "    model.eval()\n",
    "    \n",
    "    # Create the traning set and send to the loader\n",
    "    dataset = MRDataset('./data/', task, plane, train=train)\n",
    "    \n",
    "    loader = torch.utils.data.DataLoader(dataset, batch_size=1, shuffle=False, num_workers=2, drop_last=False)\n",
    "\n",
    "    \n",
    "    # Create the array list to store the predictions and labels from the compiled model\n",
    "    predictions = []\n",
    "    labels = []\n",
    "\n",
    "    # While compiling without gradient, add each single item from the labels and prediction\n",
    "    # to the above defined array lists \n",
    "    # and then return it \n",
    "\n",
    "    with torch.no_grad():\n",
    "        for image, label, _ in tqdm.tqdm(loader):\n",
    "            image = image.to(device)\n",
    "            logit = model(image)\n",
    "            prediction = torch.sigmoid(logit)\n",
    "            predictions.append(prediction[0].item())\n",
    "            labels.append(label[0].item())\n",
    "    \n",
    "    return np.argmax(predictions), np.argmax(labels)"
   ]
  },
  {
   "cell_type": "code",
   "execution_count": null,
   "metadata": {
    "tags": []
   },
   "outputs": [],
   "source": [
    "final_results_val = {}\n",
    "\n",
    "for task in ['acl', 'meniscus', 'abnormal']:\n",
    "    results = {}\n",
    "\n",
    "    # Train a logistic regressor model\n",
    "    for plane in ['axial', 'coronal', 'sagittal']:\n",
    "        prediction = extract_predictions(task, plane, './experiments/exp_opt_acc/models/')\n"
   ]
  },
  {
   "cell_type": "code",
   "execution_count": null,
   "metadata": {},
   "outputs": [],
   "source": [
    "# Create a logistic regressor for the validation test\n",
    "results_val = {}\n",
    "\n",
    "for plane in ['axial', 'coronal', 'sagittal']:\n",
    "    predictions, labels = extract_predictions(task, plane, './experiments/exp_opt_acc/models/', train=True)\n",
    "    results_val['labels'] = labels\n",
    "    results_val[plane] = predictions\n",
    "\n",
    "X_val = np.zeros((len(predictions), 3))\n",
    "X_val[:, 0] = results_val['axial']\n",
    "X_val[:, 1] = results_val['coronal']\n",
    "X_val[:, 2] = results_val['sagittal']\n",
    "\n",
    "y_val = np.array(labels)\n",
    "\n",
    "y_pred = logreg.predict_proba(X_val)[:, 1]\n",
    "y_class_preds = (y_pred > 0.5).astype(np.float32)"
   ]
  },
  {
   "cell_type": "code",
   "execution_count": null,
   "metadata": {},
   "outputs": [],
   "source": [
    "import pandas as pd\n",
    "import numpy as np \n",
    "import matplotlib.pyplot as plt\n",
    "from sklearn import metrics\n"
   ]
  },
  {
   "cell_type": "code",
   "execution_count": null,
   "metadata": {},
   "outputs": [],
   "source": [
    "complex = [ 280,97,77,394,259,115,314,123,100,279,150,30,309,381,231,94,146,230,325,339,258,137,193,298,207 ]\n",
    "complex = pd.DataFrame(complex)\n",
    "\n",
    "abnormal_complex = pd.read_csv('./experiments/exp_auc/results/complex-abnormal-prediction.csv')\n",
    "abnormal_complex_label = pd.read_csv('./experiments/exp_auc/results/complex-abnormal-label.csv')\n",
    "\n",
    "acl_complex = pd.read_csv('./experiments/exp_auc/results/complex-acl-prediction.csv')\n",
    "acl_complex_label = pd.read_csv('./experiments/exp_auc/results/complex-acl-label.csv')\n",
    "\n",
    "meniscus_complex = pd.read_csv('./experiments/exp_auc/results/complex-meniscus-prediction.csv')\n",
    "meniscus_complex_label = pd.read_csv('./experiments/exp_auc/results/complex-meniscus-label.csv')\n"
   ]
  },
  {
   "cell_type": "code",
   "execution_count": null,
   "metadata": {},
   "outputs": [],
   "source": [
    "abnormal_complex = abnormal_complex.rename(columns={'Unnamed: 0' : \"Case\", \"0\" : \"Prediction\"})\n",
    "abnormal_complex = abnormal_complex.set_index(\"Case\")\n",
    "\n",
    "acl_complex = acl_complex.rename(columns={'Unnamed: 0' : \"Case\", \"0\" : \"Prediction\"})\n",
    "acl_complex = acl_complex.set_index(\"Case\")\n",
    "\n",
    "meniscus_complex = meniscus_complex.rename(columns={'Unnamed: 0' : \"Case\", \"0\" : \"Prediction\"})\n",
    "meniscus_complex = meniscus_complex.set_index(\"Case\")\n",
    "\n",
    "abnormal_complex_label = abnormal_complex_label.rename(columns={'Unnamed: 0' : \"Case\", \"0\" : \"Prediction\"})\n",
    "abnormal_complex_label = abnormal_complex_label.set_index(\"Case\")\n",
    "\n",
    "acl_complex_label = acl_complex_label.rename(columns={'Unnamed: 0' : \"Case\", \"0\" : \"Prediction\"})\n",
    "acl_complex_label = acl_complex_label.set_index(\"Case\")\n",
    "\n",
    "meniscus_complex_label = meniscus_complex_label.rename(columns={'Unnamed: 0' : \"Case\", \"0\" : \"Prediction\"})\n",
    "meniscus_complex_label = meniscus_complex_label.set_index(\"Case\")"
   ]
  },
  {
   "cell_type": "code",
   "execution_count": null,
   "metadata": {},
   "outputs": [],
   "source": [
    "complex = complex.rename(columns={0: \"Case\"})\n",
    "complex = complex.set_index(\"Case\")"
   ]
  },
  {
   "cell_type": "code",
   "execution_count": null,
   "metadata": {},
   "outputs": [],
   "source": [
    "abnormal_complex[\"True Label\"] = abnormal_complex_label[\"Prediction\"]\n",
    "acl_complex[\"True Label\"] = acl_complex_label[\"Prediction\"]\n",
    "meniscus_complex[\"True Label\"] = meniscus_complex_label[\"Prediction\"]"
   ]
  },
  {
   "cell_type": "code",
   "execution_count": null,
   "metadata": {},
   "outputs": [],
   "source": [
    "y_pred_ab = abnormal_complex[\"Prediction\"].to_numpy()\n",
    "y_val_ab = abnormal_complex[\"True Label\"].to_numpy()\n",
    "\n",
    "y_pred_acl = acl_complex[\"Prediction\"].to_numpy()\n",
    "y_val_acl = acl_complex[\"True Label\"].to_numpy()\n",
    "\n",
    "y_pred_men = meniscus_complex[\"Prediction\"].to_numpy()\n",
    "y_val_men = meniscus_complex[\"True Label\"].to_numpy()"
   ]
  },
  {
   "cell_type": "code",
   "execution_count": null,
   "metadata": {},
   "outputs": [],
   "source": [
    "auc1 = metrics.roc_auc_score(y_val_ab , y_pred_ab)\n",
    "auc2 = metrics.roc_auc_score(y_val_acl , y_pred_acl)\n",
    "auc3 = metrics.roc_auc_score(y_val_men , y_pred_men)\n",
    "plt.figure(0).clf()\n",
    "fpr, tpr, thresh = metrics.roc_curve(y_val_ab, y_pred_ab)\n",
    "plt.plot(fpr,tpr,label=f\"Task abnormal, auc=\"+str(auc1))\n",
    "plt.title(f'Complex case - ROC/AUROC graph (Model AUC)')\n",
    "plt.xlabel('fpr')\n",
    "plt.ylabel('tpr')\n",
    "\n",
    "fpr, tpr, thresh = metrics.roc_curve(y_val_acl, y_pred_acl)\n",
    "plt.plot(fpr,tpr,label=f\"Task acl, auc=\"+str(auc2))\n",
    "\n",
    "\n",
    "fpr, tpr, thresh = metrics.roc_curve(y_val_men, y_pred_men)\n",
    "plt.plot(fpr,tpr,label=f\"Task meniscus, auc=\"+str(auc3))\n",
    "\n",
    "plt.legend(loc=0)\n",
    "plt.savefig(f'./complex-roc-auc.jpg')"
   ]
  },
  {
   "cell_type": "code",
   "execution_count": null,
   "metadata": {},
   "outputs": [],
   "source": [
    "abnormal_complex"
   ]
  },
  {
   "cell_type": "code",
   "execution_count": null,
   "metadata": {},
   "outputs": [],
   "source": [
    "abnormal_complex['True Label'] = abnormal_complex_label['Prediction']\n"
   ]
  },
  {
   "cell_type": "code",
   "execution_count": null,
   "metadata": {},
   "outputs": [],
   "source": [
    "abnormal_complex.loc[abnormal_complex['Prediction'] != abnormal_complex['True Label']]"
   ]
  },
  {
   "cell_type": "code",
   "execution_count": null,
   "metadata": {},
   "outputs": [],
   "source": [
    "abnormal_complex = abnormal_complex.loc[abnormal_complex['Case'] == pd.DataFrame(complex)]\n",
    "abnormal_complex"
   ]
  },
  {
   "cell_type": "code",
   "execution_count": null,
   "metadata": {},
   "outputs": [],
   "source": [
    "pre.to_csv('./pred_auc.csv')"
   ]
  },
  {
   "cell_type": "code",
   "execution_count": null,
   "metadata": {},
   "outputs": [],
   "source": [
    "acl_acc = pd.read_csv(f'./experiments/exp_opt_acc/results/complex-acl-prediction.csv')\n",
    "abnormal_acc = pd.read_csv(f'./experiments/exp_opt_acc/results/complex-abnormal-prediction.csv')\n",
    "meniscus_acc = pd.read_csv(f'./experiments/exp_opt_acc/results/complex-meniscus-prediction.csv')\n",
    "\n",
    "acl_wu = pd.read_csv(f'./experiments/exp_opt_wu/results/complex-acl-prediction.csv')\n",
    "abnormal_wu = pd.read_csv(f'./experiments/exp_opt_wu/results/complex-abnormal-prediction.csv')\n",
    "meniscus_wu = pd.read_csv(f'./experiments/exp_opt_wu/results/complex-meniscus-prediction.csv')"
   ]
  },
  {
   "cell_type": "code",
   "execution_count": null,
   "metadata": {},
   "outputs": [],
   "source": [
    "acl_acc = acl_acc.rename(columns={\"Unnamed: 0\": \"Case\", \"0\": \"Score\"})\n",
    "abnormal_acc = abnormal_acc.rename(columns={\"Unnamed: 0\": \"Case\", \"0\": \"Score\"})\n",
    "meniscus_acc = meniscus_acc.rename(columns={\"Unnamed: 0\": \"Case\", \"0\": \"Score\"})\n",
    "\n",
    "acl_wu = acl_wu.rename(columns={\"Unnamed: 0\": \"Case\", \"0\": \"Score\"})\n",
    "abnormal_wu = abnormal_wu.rename(columns={\"Unnamed: 0\": \"Case\", \"0\": \"Score\"})\n",
    "meniscus_wu = meniscus_wu.rename(columns={\"Unnamed: 0\": \"Case\", \"0\": \"Score\"})"
   ]
  },
  {
   "cell_type": "code",
   "execution_count": null,
   "metadata": {},
   "outputs": [],
   "source": [
    "acl_acc[\"Prediction\"] = acl_acc['Score'] == 1\n",
    "abnormal_acc[\"Prediction\"] = abnormal_acc['Score'] == 1\n",
    "meniscus_acc[\"Prediction\"] = meniscus_acc['Score'] == 1\n",
    "\n",
    "\n",
    "acl_wu[\"Prediction\"] = acl_wu['Score'] == 1\n",
    "abnormal_wu[\"Prediction\"] = abnormal_wu['Score'] == 1\n",
    "meniscus_wu[\"Prediction\"] = meniscus_wu['Score'] == 1"
   ]
  },
  {
   "cell_type": "code",
   "execution_count": null,
   "metadata": {},
   "outputs": [],
   "source": [
    "acl_acc = acl_acc.set_index('Case')\n",
    "abnormal_acc = abnormal_acc.set_index('Case')\n",
    "meniscus_acc = meniscus_acc.set_index('Case')\n",
    "\n",
    "acl_wu = acl_wu.set_index('Case')\n",
    "abnormal_wu = abnormal_wu.set_index('Case')\n",
    "meniscus_wu = meniscus_wu.set_index('Case')"
   ]
  },
  {
   "cell_type": "code",
   "execution_count": null,
   "metadata": {},
   "outputs": [],
   "source": [
    "print('Acl Accuracy')\n",
    "print(acl_acc.loc[acl_acc['Score'] != acl_wu['Score']])\n",
    "print('-'*30)\n",
    "print('\\nAcl WU')\n",
    "print(acl_wu.loc[acl_acc['Score'] != acl_wu['Score']])"
   ]
  },
  {
   "cell_type": "code",
   "execution_count": null,
   "metadata": {},
   "outputs": [],
   "source": [
    "print('Abnormal Accuracy')\n",
    "print(abnormal_acc.loc[abnormal_acc['Score'] != abnormal_wu['Score']])\n",
    "print('-'*30)\n",
    "print('\\nAbnormal WU')\n",
    "print(abnormal_wu.loc[abnormal_acc['Score'] != abnormal_wu['Score']])"
   ]
  },
  {
   "cell_type": "code",
   "execution_count": null,
   "metadata": {},
   "outputs": [],
   "source": [
    "print('Meniscus Accuracy')\n",
    "print(meniscus_acc.loc[meniscus_acc['Score'] != meniscus_wu['Score']])\n",
    "print('-'*30)\n",
    "print('\\nMeniscus WU')\n",
    "print(meniscus_wu.loc[meniscus_acc['Score'] != meniscus_wu['Score']])"
   ]
  },
  {
   "cell_type": "code",
   "execution_count": null,
   "metadata": {},
   "outputs": [],
   "source": [
    "acl_acc.to_csv(f'./experiments/exp_opt_acc/results/complex-acl-prediction.csv')\n",
    "abnormal_acc.to_csv(f'./experiments/exp_opt_acc/results/complex-abnormal-prediction.csv')\n",
    "meniscus_acc.to_csv(f'./experiments/exp_opt_acc/results/complex-meniscus-prediction.csv')\n",
    "\n",
    "acl_wu.to_csv(f'./experiments/exp_opt_wu/results/complex-acl-prediction.csv')\n",
    "abnormal_wu.to_csv(f'./experiments/exp_opt_wu/results/complex-abnormal-prediction.csv')\n",
    "meniscus_wu.to_csv(f'./experiments/exp_opt_wu/results/complex-meniscus-prediction.csv')"
   ]
  },
  {
   "cell_type": "code",
   "execution_count": null,
   "metadata": {},
   "outputs": [],
   "source": [
    "from sklearn import metrics\n",
    "import numpy as np\n",
    "import matplotlib.pyplot as plt\n",
    "\n",
    "plt.figure(0).clf()\n",
    "\n",
    "pred = np.random.rand(1000)\n",
    "label = np.random.randint(2, size=1000)\n",
    "fpr, tpr, thresh = metrics.roc_curve(label, pred)\n",
    "auc = metrics.roc_auc_score(label, pred)\n",
    "plt.plot(fpr,tpr,label=\"data 1, auc=\"+str(auc))\n",
    "\n",
    "pred = np.random.rand(1000)\n",
    "label = np.random.randint(2, size=1000)\n",
    "fpr, tpr, thresh = metrics.roc_curve(label, pred)\n",
    "auc = metrics.roc_auc_score(label, pred)\n",
    "plt.plot(fpr,tpr,label=\"data 2, auc=\"+str(auc))\n",
    "\n",
    "plt.legend(loc=0)"
   ]
  },
  {
   "cell_type": "code",
   "execution_count": null,
   "metadata": {},
   "outputs": [],
   "source": [
    "import numpy as np\n",
    "import os\n",
    "from PIL import Image\n",
    "import imageio\n"
   ]
  },
  {
   "cell_type": "code",
   "execution_count": null,
   "metadata": {
    "tags": []
   },
   "outputs": [],
   "source": [
    "\n",
    "axial = './data/train/axial/'\n",
    "count = 0\n",
    "\n",
    "for image in os.listdir(axial):\n",
    "    img = os.path.join(axial, image)\n",
    "    img = np.load(img)\n",
    "    for i in range(img.shape[0]):\n",
    "        arr = Image.fromarray(img[i, :, :])\n",
    "        arr.save(f'./images/axial/{image}-{i}.jpg')"
   ]
  },
  {
   "cell_type": "code",
   "execution_count": null,
   "metadata": {},
   "outputs": [],
   "source": [
    "\n",
    "coronal = './data/train/coronal/'\n",
    "count = 0\n",
    "\n",
    "for image in os.listdir(coronal):\n",
    "    img = os.path.join(coronal, image)\n",
    "    img = np.load(img)\n",
    "    for i in range(img.shape[0]):\n",
    "        arr = Image.fromarray(img[i, :, :])\n",
    "        arr.save(f'./images/coronal/{image}-{i}.jpg')"
   ]
  },
  {
   "cell_type": "code",
   "execution_count": null,
   "metadata": {},
   "outputs": [],
   "source": [
    "\n",
    "sagittal = './data/train/sagittal/'\n",
    "count = 0\n",
    "\n",
    "for image in os.listdir(sagittal):\n",
    "    img = os.path.join(sagittal, image)\n",
    "    img = np.load(img)\n",
    "    for i in range(img.shape[0]):\n",
    "        arr = Image.fromarray(img[i, :, :])\n",
    "        arr.save(f'./images/sagittal/{image}-{i}.jpg')"
   ]
  },
  {
   "cell_type": "code",
   "execution_count": 1,
   "metadata": {},
   "outputs": [],
   "source": [
    "import utils as ut\n",
    "from models.res_similar import SimilarRes18\n",
    "from PIL import Image\n",
    "\n",
    "ut.rescale_image('./selected/', './rescaled')\n",
    "\n",
    "\n"
   ]
  },
  {
   "cell_type": "code",
   "execution_count": 2,
   "metadata": {},
   "outputs": [
    {
     "output_type": "stream",
     "name": "stderr",
     "text": [
      "  1%|          | 3/270 [00:00<00:11, 23.38it/s]Converting images to feature vectors:\n",
      "100%|██████████| 270/270 [00:15<00:00, 17.44it/s]\n"
     ]
    }
   ],
   "source": [
    "from tqdm import tqdm\n",
    "img2vec = SimilarRes18()\n",
    "\n",
    "allVectors = {}\n",
    "print(\"Converting images to feature vectors:\")\n",
    "for image in tqdm(os.listdir(\"./rescaled/\")):\n",
    "    I = Image.open(os.path.join(\"./rescaled/\", image))\n",
    "    vec = img2vec.getVec(I)\n",
    "    allVectors[image] = vec\n",
    "    I.close()"
   ]
  },
  {
   "cell_type": "code",
   "execution_count": 3,
   "metadata": {},
   "outputs": [
    {
     "output_type": "stream",
     "name": "stderr",
     "text": [
      "100%|██████████| 270/270 [00:00<00:00, 1163.17it/s]\n"
     ]
    }
   ],
   "source": [
    "similarityMatrix = ut.get_similarity_matrix(allVectors)\n",
    "similarNames, similarValues = ut.top_entries(10, similarityMatrix)"
   ]
  },
  {
   "cell_type": "code",
   "execution_count": 9,
   "metadata": {},
   "outputs": [],
   "source": [
    "img = []\n",
    "\n",
    "for i in os.listdir('./selected/'):\n",
    "    img.append(str(i))"
   ]
  },
  {
   "cell_type": "code",
   "execution_count": 11,
   "metadata": {},
   "outputs": [
    {
     "output_type": "stream",
     "name": "stdout",
     "text": [
      "case100axial.jpg\ncase100coronal.jpg\ncase100sagittal.jpg\ncase101axial.jpg\ncase101coronal.jpg\ncase101sagittal.jpg\ncase107axial.jpg\ncase107coronal.jpg\ncase107sagittal.jpg\ncase115axial.jpg\ncase115coronal.jpg\ncase115sagittal.jpg\ncase122axial.jpg\ncase122coronal.jpg\ncase122sagittal.jpg\ncase123axial.jpg\ncase123coronal.jpg\ncase123sagittal.jpg\ncase137axial.jpg\ncase137coronal.jpg\ncase137sagittal.jpg\ncase13axial.jpg\ncase13coronal.jpg\ncase13sagittal.jpg\ncase146axial.jpg\ncase146coronal.jpg\ncase146sagittal.jpg\ncase150axial.jpg\ncase150coronal.jpg\ncase150sagittal.jpg\ncase158axial.jpg\ncase158coronal.jpg\ncase158sagittal.jpg\ncase169axial.jpg\ncase169coronal.jpg\ncase169sagittal.jpg\ncase16axial.jpg\ncase16coronal.jpg\ncase16sagittal.jpg\ncase174axial.jpg\ncase174coronal.jpg\ncase174sagittal.jpg\ncase176axial.jpg\ncase176coronal.jpg\ncase176sagittal.jpg\ncase179axial.jpg\ncase179coronal.jpg\ncase179sagittal.jpg\ncase182axial.jpg\ncase182coronal.jpg\ncase182sagittal.jpg\ncase188axial.jpg\ncase188coronal.jpg\ncase188sagittal.jpg\ncase190axial.jpg\ncase190coronal.jpg\ncase190sagittal.jpg\ncase193axial.jpg\ncase193coronal.jpg\ncase193sagittal.jpg\ncase197axial.jpg\ncase197coronal.jpg\ncase197sagittal.jpg\ncase199axial.jpg\ncase199coronal.jpg\ncase199sagittal.jpg\ncase205axial.jpg\ncase205coronal.jpg\ncase205sagittal.jpg\ncase207axial.jpg\ncase207coronal.jpg\ncase207sagittal.jpg\ncase208axial.jpg\ncase208coronal.jpg\ncase208sagittal.jpg\ncase209axial.jpg\ncase209coronal.jpg\ncase209sagittal.jpg\ncase214axial.jpg\ncase214coronal.jpg\ncase214sagittal.jpg\ncase219axial.jpg\ncase219coronal.jpg\ncase219sagittal.jpg\ncase227axial.jpg\ncase227coronal.jpg\ncase227sagittal.jpg\ncase230axial.jpg\ncase230coronal.jpg\ncase230sagittal.jpg\ncase231axial.jpg\ncase231coronal.jpg\ncase231sagittal.jpg\ncase236axial.jpg\ncase236coronal.jpg\ncase236sagittal.jpg\ncase238axial.jpg\ncase238coronal.jpg\ncase238sagittal.jpg\ncase241axial.jpg\ncase241coronal.jpg\ncase241sagittal.jpg\ncase244axial.jpg\ncase244coronal.jpg\ncase244sagittal.jpg\ncase245axial.jpg\ncase245coronal.jpg\ncase245sagittal.jpg\ncase258axial.jpg\ncase258coronal.jpg\ncase258sagittal.jpg\ncase259axial.jpg\ncase259coronal.jpg\ncase259sagittal.jpg\ncase261axial.jpg\ncase261coronal.jpg\ncase261sagittal.jpg\ncase265axial.jpg\ncase265coronal.jpg\ncase265sagittal.jpg\ncase266axial.jpg\ncase266coronal.jpg\ncase266sagittal.jpg\ncase271axial.jpg\ncase271coronal.jpg\ncase271sagittal.jpg\ncase272axial.jpg\ncase272coronal.jpg\ncase272sagittal.jpg\ncase275axial.jpg\ncase275coronal.jpg\ncase275sagittal.jpg\ncase276axial.jpg\ncase276coronal.jpg\ncase276sagittal.jpg\ncase277axial.jpg\ncase277coronal.jpg\ncase277sagittal.jpg\ncase279axial.jpg\ncase279coronal.jpg\ncase279sagittal.jpg\ncase280axial.jpg\ncase280coronal.jpg\ncase280sagittal.jpg\ncase281axial.jpg\ncase281coronal.jpg\ncase281sagittal.jpg\ncase282axial.jpg\ncase282coronal.jpg\ncase282sagittal.jpg\ncase283axial.jpg\ncase283coronal.jpg\ncase283sagittal.jpg\ncase284axial.jpg\ncase284coronal.jpg\ncase284sagittal.jpg\ncase285axial.jpg\ncase285coronal.jpg\ncase285sagittal.jpg\ncase286axial.jpg\ncase286coronal.jpg\ncase286sagittal.jpg\ncase288axial.jpg\ncase288coronal.jpg\ncase288sagittal.jpg\ncase289axial.jpg\ncase289coronal.jpg\ncase289sagittal.jpg\ncase291axial.jpg\ncase291coronal.jpg\ncase291sagittal.jpg\ncase293axial.jpg\ncase293coronal.jpg\ncase293sagittal.jpg\ncase294axial.jpg\ncase294coronal.jpg\ncase294sagittal.jpg\ncase295axial.jpg\ncase295coronal.jpg\ncase295sagittal.jpg\ncase296axial.jpg\ncase296coronal.jpg\ncase296sagittal.jpg\ncase297axial.jpg\ncase297coronal.jpg\ncase297sagittal.jpg\ncase298axial.jpg\ncase298coronal.jpg\ncase298sagittal.jpg\ncase299axial.jpg\ncase299coronal.jpg\ncase299sagittal.jpg\ncase300axial.jpg\ncase300coronal.jpg\ncase300sagittal.jpg\ncase303axial.jpg\ncase303coronal.jpg\ncase303sagittal.jpg\ncase309axial.jpg\ncase309coronal.jpg\ncase309sagittal.jpg\ncase30axial.jpg\ncase30coronal.jpg\ncase30sagittal.jpg\ncase314axial.jpg\ncase314coronal.jpg\ncase314sagittal.jpg\ncase323axial.jpg\ncase323coronal.jpg\ncase323sagittal.jpg\ncase324axial.jpg\ncase324coronal.jpg\ncase324sagittal.jpg\ncase325axial.jpg\ncase325coronal.jpg\ncase325sagittal.jpg\ncase326axial.jpg\ncase326coronal.jpg\ncase326sagittal.jpg\ncase329axial.jpg\ncase329coronal.jpg\ncase329sagittal.jpg\ncase339axial.jpg\ncase339coronal.jpg\ncase339sagittal.jpg\ncase33axial.jpg\ncase33coronal.jpg\ncase33sagittal.jpg\ncase370axial.jpg\ncase370coronal.jpg\ncase370sagittal.jpg\ncase381axial.jpg\ncase381coronal.jpg\ncase381sagittal.jpg\ncase394axial.jpg\ncase394coronal.jpg\ncase394sagittal.jpg\ncase399axial.jpg\ncase399coronal.jpg\ncase399sagittal.jpg\ncase404axial.jpg\ncase404coronal.jpg\ncase404sagittal.jpg\ncase405axial.jpg\ncase405coronal.jpg\ncase405sagittal.jpg\ncase61axial.jpg\ncase61coronal.jpg\ncase61sagittal.jpg\ncase76axial.jpg\ncase76coronal.jpg\ncase76sagittal.jpg\ncase77axial.jpg\ncase77coronal.jpg\ncase77sagittal.jpg\ncase83axial.jpg\ncase83coronal.jpg\ncase83sagittal.jpg\ncase86axial.jpg\ncase86coronal.jpg\ncase86sagittal.jpg\ncase94axial.jpg\ncase94coronal.jpg\ncase94sagittal.jpg\ncase97axial.jpg\ncase97coronal.jpg\ncase97sagittal.jpg\ncase99axial.jpg\ncase99coronal.jpg\ncase99sagittal.jpg\n"
     ]
    }
   ],
   "source": [
    "img.sort()\n",
    "for i in img:\n",
    "    ut.plot_similar_images('./selected/', i, 10, 1, similarNames, similarValues)"
   ]
  }
 ]
}